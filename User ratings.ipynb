{
 "cells": [
  {
   "cell_type": "code",
   "execution_count": 1,
   "metadata": {},
   "outputs": [],
   "source": [
    "import pandas as pd\n",
    "import matplotlib.pyplot as plt\n",
    "import seaborn as sns\n",
    "import numpy as np"
   ]
  },
  {
   "cell_type": "code",
   "execution_count": 2,
   "metadata": {},
   "outputs": [],
   "source": [
    "payments = pd.read_csv('olist_order_payments_dataset.csv')\n",
    "payments = payments.drop(payments.columns[[1,2,3]], axis=1)\n",
    "payments = payments.groupby('order_id').sum().reset_index()\n",
    "reviews = pd.read_csv('olist_order_reviews_dataset.csv')\n",
    "reviews = reviews.drop(reviews.columns[[0,3,4,5,6]], axis=1)\n",
    "orders = pd.read_csv('olist_orders_dataset.csv')\n",
    "orders = orders.drop(orders.columns[[1,2,4,5,7]], axis=1)"
   ]
  },
  {
   "cell_type": "code",
   "execution_count": 3,
   "metadata": {},
   "outputs": [
    {
     "data": {
      "text/html": [
       "<div>\n",
       "<style scoped>\n",
       "    .dataframe tbody tr th:only-of-type {\n",
       "        vertical-align: middle;\n",
       "    }\n",
       "\n",
       "    .dataframe tbody tr th {\n",
       "        vertical-align: top;\n",
       "    }\n",
       "\n",
       "    .dataframe thead th {\n",
       "        text-align: right;\n",
       "    }\n",
       "</style>\n",
       "<table border=\"1\" class=\"dataframe\">\n",
       "  <thead>\n",
       "    <tr style=\"text-align: right;\">\n",
       "      <th></th>\n",
       "      <th>review_score</th>\n",
       "      <th>payment_value</th>\n",
       "      <th>deliver_time</th>\n",
       "    </tr>\n",
       "  </thead>\n",
       "  <tbody>\n",
       "    <tr>\n",
       "      <th>0</th>\n",
       "      <td>4</td>\n",
       "      <td>38.71</td>\n",
       "      <td>8.0</td>\n",
       "    </tr>\n",
       "    <tr>\n",
       "      <th>1</th>\n",
       "      <td>4</td>\n",
       "      <td>141.46</td>\n",
       "      <td>13.0</td>\n",
       "    </tr>\n",
       "    <tr>\n",
       "      <th>2</th>\n",
       "      <td>5</td>\n",
       "      <td>179.12</td>\n",
       "      <td>9.0</td>\n",
       "    </tr>\n",
       "    <tr>\n",
       "      <th>3</th>\n",
       "      <td>5</td>\n",
       "      <td>72.20</td>\n",
       "      <td>13.0</td>\n",
       "    </tr>\n",
       "    <tr>\n",
       "      <th>4</th>\n",
       "      <td>5</td>\n",
       "      <td>28.62</td>\n",
       "      <td>2.0</td>\n",
       "    </tr>\n",
       "    <tr>\n",
       "      <th>5</th>\n",
       "      <td>4</td>\n",
       "      <td>175.26</td>\n",
       "      <td>16.0</td>\n",
       "    </tr>\n",
       "    <tr>\n",
       "      <th>7</th>\n",
       "      <td>5</td>\n",
       "      <td>75.16</td>\n",
       "      <td>9.0</td>\n",
       "    </tr>\n",
       "    <tr>\n",
       "      <th>8</th>\n",
       "      <td>1</td>\n",
       "      <td>35.95</td>\n",
       "      <td>9.0</td>\n",
       "    </tr>\n",
       "    <tr>\n",
       "      <th>9</th>\n",
       "      <td>5</td>\n",
       "      <td>169.76</td>\n",
       "      <td>18.0</td>\n",
       "    </tr>\n",
       "    <tr>\n",
       "      <th>10</th>\n",
       "      <td>1</td>\n",
       "      <td>259.06</td>\n",
       "      <td>12.0</td>\n",
       "    </tr>\n",
       "  </tbody>\n",
       "</table>\n",
       "</div>"
      ],
      "text/plain": [
       "    review_score  payment_value  deliver_time\n",
       "0              4          38.71           8.0\n",
       "1              4         141.46          13.0\n",
       "2              5         179.12           9.0\n",
       "3              5          72.20          13.0\n",
       "4              5          28.62           2.0\n",
       "5              4         175.26          16.0\n",
       "7              5          75.16           9.0\n",
       "8              1          35.95           9.0\n",
       "9              5         169.76          18.0\n",
       "10             1         259.06          12.0"
      ]
     },
     "execution_count": 3,
     "metadata": {},
     "output_type": "execute_result"
    }
   ],
   "source": [
    "score = pd.merge(orders, reviews, on='order_id', how='inner')\n",
    "score = pd.merge(score, payments, on='order_id', how='inner')\n",
    "score['order_purchase_timestamp'] = pd.to_datetime(score['order_purchase_timestamp'])\n",
    "score['order_delivered_customer_date'] = pd.to_datetime(score['order_delivered_customer_date'])\n",
    "score['deliver_time'] = (score['order_delivered_customer_date'] - score['order_purchase_timestamp']).dt.days\n",
    "score = score.drop(score.columns[[0,1,2]], axis=1)\n",
    "score.dropna(inplace=True)\n",
    "score.head(10)\n"
   ]
  },
  {
   "cell_type": "code",
   "execution_count": 50,
   "metadata": {},
   "outputs": [],
   "source": [
    "score.to_csv('score.csv', index=False)"
   ]
  },
  {
   "cell_type": "code",
   "execution_count": null,
   "metadata": {},
   "outputs": [],
   "source": []
  },
  {
   "cell_type": "code",
   "execution_count": null,
   "metadata": {},
   "outputs": [],
   "source": []
  },
  {
   "cell_type": "code",
   "execution_count": null,
   "metadata": {},
   "outputs": [],
   "source": []
  },
  {
   "cell_type": "code",
   "execution_count": 4,
   "metadata": {},
   "outputs": [],
   "source": [
    "orders = pd.read_csv('olist_orders_dataset.csv')\n",
    "customers = pd.read_csv('olist_customers_dataset.csv')\n",
    "reviews = pd.read_csv('olist_order_reviews_dataset.csv')\n",
    "customers = customers.drop(customers.columns[[2,3,4]], axis=1)\n",
    "orders = orders.drop(orders.columns[[2,3,4,5,6,7]], axis=1)\n",
    "reviews = reviews.drop(reviews.columns[[0,3,4,5,6]], axis=1)"
   ]
  },
  {
   "cell_type": "code",
   "execution_count": 9,
   "metadata": {},
   "outputs": [
    {
     "data": {
      "text/html": [
       "<div>\n",
       "<style scoped>\n",
       "    .dataframe tbody tr th:only-of-type {\n",
       "        vertical-align: middle;\n",
       "    }\n",
       "\n",
       "    .dataframe tbody tr th {\n",
       "        vertical-align: top;\n",
       "    }\n",
       "\n",
       "    .dataframe thead th {\n",
       "        text-align: right;\n",
       "    }\n",
       "</style>\n",
       "<table border=\"1\" class=\"dataframe\">\n",
       "  <thead>\n",
       "    <tr style=\"text-align: right;\">\n",
       "      <th></th>\n",
       "      <th>review_score</th>\n",
       "      <th>count</th>\n",
       "    </tr>\n",
       "  </thead>\n",
       "  <tbody>\n",
       "    <tr>\n",
       "      <th>0</th>\n",
       "      <td>5.0</td>\n",
       "      <td>1</td>\n",
       "    </tr>\n",
       "    <tr>\n",
       "      <th>1</th>\n",
       "      <td>4.0</td>\n",
       "      <td>1</td>\n",
       "    </tr>\n",
       "    <tr>\n",
       "      <th>2</th>\n",
       "      <td>3.0</td>\n",
       "      <td>1</td>\n",
       "    </tr>\n",
       "    <tr>\n",
       "      <th>3</th>\n",
       "      <td>4.0</td>\n",
       "      <td>1</td>\n",
       "    </tr>\n",
       "    <tr>\n",
       "      <th>4</th>\n",
       "      <td>5.0</td>\n",
       "      <td>1</td>\n",
       "    </tr>\n",
       "    <tr>\n",
       "      <th>...</th>\n",
       "      <td>...</td>\n",
       "      <td>...</td>\n",
       "    </tr>\n",
       "    <tr>\n",
       "      <th>95375</th>\n",
       "      <td>5.0</td>\n",
       "      <td>1</td>\n",
       "    </tr>\n",
       "    <tr>\n",
       "      <th>95376</th>\n",
       "      <td>4.0</td>\n",
       "      <td>1</td>\n",
       "    </tr>\n",
       "    <tr>\n",
       "      <th>95377</th>\n",
       "      <td>5.0</td>\n",
       "      <td>1</td>\n",
       "    </tr>\n",
       "    <tr>\n",
       "      <th>95378</th>\n",
       "      <td>5.0</td>\n",
       "      <td>1</td>\n",
       "    </tr>\n",
       "    <tr>\n",
       "      <th>95379</th>\n",
       "      <td>5.0</td>\n",
       "      <td>1</td>\n",
       "    </tr>\n",
       "  </tbody>\n",
       "</table>\n",
       "<p>95380 rows × 2 columns</p>\n",
       "</div>"
      ],
      "text/plain": [
       "       review_score  count\n",
       "0               5.0      1\n",
       "1               4.0      1\n",
       "2               3.0      1\n",
       "3               4.0      1\n",
       "4               5.0      1\n",
       "...             ...    ...\n",
       "95375           5.0      1\n",
       "95376           4.0      1\n",
       "95377           5.0      1\n",
       "95378           5.0      1\n",
       "95379           5.0      1\n",
       "\n",
       "[95380 rows x 2 columns]"
      ]
     },
     "execution_count": 9,
     "metadata": {},
     "output_type": "execute_result"
    }
   ],
   "source": [
    "data1 = pd.merge(orders, customers, on='customer_id')\n",
    "score_reorder = pd.merge(data1, reviews, on='order_id')\n",
    "score_reorder.dropna(inplace=True)\n",
    "score_reorder = score_reorder.drop(score_reorder.columns[[0,1]], axis=1)\n",
    "score_reorder= score_reorder.assign(count=1)\n",
    "score_reorder = score_reorder.groupby('customer_unique_id').agg({'review_score': 'mean', 'count': 'sum'}).reset_index()\n",
    "score_reorder = score_reorder.drop(score_reorder.columns[[0]], axis=1)\n",
    "# score_reorder.sort_values(by='count', ascending=False)\n",
    "score_reorder"
   ]
  },
  {
   "cell_type": "code",
   "execution_count": 102,
   "metadata": {},
   "outputs": [],
   "source": [
    "# score_reorder.to_csv('score_reorder.csv', index=False)"
   ]
  },
  {
   "cell_type": "code",
   "execution_count": 11,
   "metadata": {},
   "outputs": [
    {
     "data": {
      "image/png": "[encoded data removed]",
      "text/plain": [
       "<Figure size 1000x600 with 1 Axes>"
      ]
     },
     "metadata": {},
     "output_type": "display_data"
    }
   ],
   "source": [
    "plt.figure(figsize=(10, 6))\n",
    "plt.scatter(score_reorder['review_score'], score_reorder['count'], alpha=0.5)\n",
    "plt.title('Review Score vs Count')\n",
    "plt.xlabel('Review Score')\n",
    "plt.ylabel('Count')\n",
    "plt.grid(False)\n",
    "plt.show()\n"
   ]
  },
  {
   "cell_type": "code",
   "execution_count": 111,
   "metadata": {},
   "outputs": [
    {
     "data": {
      "image/png": "[encoded data removed]",
      "text/plain": [
       "<Figure size 1000x600 with 1 Axes>"
      ]
     },
     "metadata": {},
     "output_type": "display_data"
    }
   ],
   "source": [
    "review_score = score_reorder['review_score']\n",
    "count = score_reorder['count']\n",
    "\n",
    "# 计算线性回归的参数\n",
    "coefficients = np.polyfit(review_score, count, 1)\n",
    "poly = np.poly1d(coefficients)\n",
    "\n",
    "# 绘制散点图和拟合直线\n",
    "plt.figure(figsize=(10, 6))\n",
    "plt.scatter(review_score, count, alpha=0.5)\n",
    "plt.plot(review_score, poly(review_score), color='#fa2a55')\n",
    "plt.title('Review Score vs Count with Linear Regression')\n",
    "plt.xlabel('Review Score')\n",
    "plt.ylabel('Count')\n",
    "\n",
    "plt.grid(False)\n",
    "plt.show()\n",
    "# y = 0.0008x + 1.0369227,且x不显著\n"
   ]
  }
 ],
 "metadata": {
  "kernelspec": {
   "display_name": "base",
   "language": "python",
   "name": "python3"
  },
  "language_info": {
   "codemirror_mode": {
    "name": "ipython",
    "version": 3
   },
   "file_extension": ".py",
   "mimetype": "text/x-python",
   "name": "python",
   "nbconvert_exporter": "python",
   "pygments_lexer": "ipython3",
   "version": "3.11.4"
  }
 },
 "nbformat": 4,
 "nbformat_minor": 2
}
